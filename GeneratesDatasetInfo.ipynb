{
 "cells": [
  {
   "cell_type": "markdown",
   "metadata": {},
   "source": [
    "## Generates Dataset Information  to info.md    \n",
    "Generates a Markdown table listing directories containing images. Each row includes the directory name, number of images, an example image name, and the image itself.\n",
    "\n",
    "- [Rafiq7M Al Mohammady](https://github.com/Rafiq7M)"
   ]
  },
  {
   "cell_type": "code",
   "execution_count": 3,
   "metadata": {},
   "outputs": [],
   "source": [
    "import os\n",
    "import random\n",
    "\n",
    "def list_directory_with_images_in_table(directory_path, save_file_path):\n",
    "    \"\"\"\n",
    "    Generates a Markdown table listing directories containing images.\n",
    "    Each row includes the directory name, number of images, an example image name, and the image itself.\n",
    "    \"\"\"\n",
    "    folder_counter = 0  # Counter for directories\n",
    "    with open(save_file_path, 'w', encoding='utf-8') as md_file:\n",
    "        # Write table header in .md file\n",
    "        md_file.write('# Dataset Information\\n')\n",
    "        md_file.write('| # | Directory Name | Number of Images | Example Image |\\n')\n",
    "        md_file.write('|---|----------------|------------------|---------------|\\n')\n",
    "\n",
    "        # Traverse the directory and subdirectories\n",
    "        for root, dirs, files in os.walk(directory_path):\n",
    "            # Filter for image files (considering jpg, png, jpeg extensions)\n",
    "            image_files = [f for f in files if f.lower().endswith(('.png', '.jpg', '.jpeg'))]\n",
    "\n",
    "            # If images are found in this directory\n",
    "            if image_files:\n",
    "                num_images = len(image_files)\n",
    "                example_image = random.choice(image_files)  # Choose a random example image\n",
    "                image_path = os.path.join(root, example_image)  # Path of the selected image\n",
    "\n",
    "                # Write information into the Markdown table\n",
    "                # md_file.write(f'| {folder_counter} | {root} | {num_images} | ![{example_image}]({image_path}) |\\n')\n",
    "                image=f'<img src=\"{image_path}\" width=\"100\" height=\"100\">'\n",
    "                md_file.write(f'| {folder_counter} | {root} | {num_images} | {image} |\\n')\n",
    "\n",
    "                # Increment the directory counter\n",
    "                folder_counter += 1\n",
    "\n",
    "# Example usage\n",
    "directory_path = 'Dataset'  # Specify the target directory path\n",
    "save_file_path = 'Dataset-Info.md'   # Specify the path for saving the Markdown file\n",
    "\n",
    "list_directory_with_images_in_table(directory_path, save_file_path)\n"
   ]
  }
 ],
 "metadata": {
  "kernelspec": {
   "display_name": "ai_libs",
   "language": "python",
   "name": "python3"
  },
  "language_info": {
   "codemirror_mode": {
    "name": "ipython",
    "version": 3
   },
   "file_extension": ".py",
   "mimetype": "text/x-python",
   "name": "python",
   "nbconvert_exporter": "python",
   "pygments_lexer": "ipython3",
   "version": "3.9.18"
  }
 },
 "nbformat": 4,
 "nbformat_minor": 2
}
